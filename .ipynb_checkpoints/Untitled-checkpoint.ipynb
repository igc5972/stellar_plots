{
 "cells": [
  {
   "cell_type": "code",
   "execution_count": 63,
   "id": "28dc4f1c",
   "metadata": {},
   "outputs": [],
   "source": [
    "import PIL\n",
    "from PIL import Image\n",
    "from astropy.io import fits\n",
    "from matplotlib import pyplot as plt\n",
    "import numpy as np\n",
    "import cv2 as cv\n",
    "import imutils\n"
   ]
  },
  {
   "cell_type": "code",
   "execution_count": 72,
   "id": "223cae72",
   "metadata": {},
   "outputs": [
    {
     "data": {
      "text/plain": [
       "(100, 100)"
      ]
     },
     "execution_count": 72,
     "metadata": {},
     "output_type": "execute_result"
    }
   ],
   "source": [
    "fits_img = fits.open('/Users/astro/Desktop/788683_786613_Galaxy2.fits')\n",
    "orig_img = fits_img[0].data\n",
    "orig_img = orig_img[]"
   ]
  },
  {
   "cell_type": "markdown",
   "id": "3a1702ec",
   "metadata": {},
   "source": [
    " ## Goal: Resize the inputted image to 100 x 100 pixels. The dimensions of the original image are "
   ]
  },
  {
   "cell_type": "code",
   "execution_count": 79,
   "id": "fd20cb26",
   "metadata": {},
   "outputs": [],
   "source": [
    "## Use OpenCV-Python to enlarge the image as a first trial\n",
    "#INTER_CUBIC interpolation is bicubic interpolation over 4x4 pixel families\n",
    "#We don't want to interpolate over too large an area since the galaxy is already very small\n",
    "\n",
    "resize_cv2 = cv2.resize(orig_img, dsize=(200, 200), interpolation=cv2.INTER_NEAREST)\n"
   ]
  },
  {
   "cell_type": "code",
   "execution_count": 80,
   "id": "2876a375",
   "metadata": {},
   "outputs": [
    {
     "data": {
      "text/plain": [
       "Text(0.5, 1.0, 'Resized with OpenCV')"
      ]
     },
     "execution_count": 80,
     "metadata": {},
     "output_type": "execute_result"
    },
    {
     "data": {
      "image/png": "[encoded data removed]",
      "text/plain": [
       "<Figure size 432x288 with 2 Axes>"
      ]
     },
     "metadata": {
      "needs_background": "light"
     },
     "output_type": "display_data"
    }
   ],
   "source": [
    "## Compare original image to OpenCV-Python\n",
    "\n",
    "fig, (ax1, ax2) = plt.subplots(1, 2)\n",
    "ax1.imshow(orig_img)\n",
    "ax1.set_title('Original Image')\n",
    "ax2.imshow(resize_cv2)\n",
    "ax2.set_title('Resized with OpenCV')"
   ]
  },
  {
   "cell_type": "code",
   "execution_count": null,
   "id": "bff92f30",
   "metadata": {},
   "outputs": [],
   "source": []
  },
  {
   "cell_type": "code",
   "execution_count": null,
   "id": "567383e5",
   "metadata": {},
   "outputs": [],
   "source": []
  },
  {
   "cell_type": "code",
   "execution_count": null,
   "id": "a728f387",
   "metadata": {},
   "outputs": [],
   "source": []
  },
  {
   "cell_type": "code",
   "execution_count": 57,
   "id": "6813300e",
   "metadata": {},
   "outputs": [
    {
     "data": {
      "text/plain": [
       "<matplotlib.image.AxesImage at 0x124fb0e50>"
      ]
     },
     "execution_count": 57,
     "metadata": {},
     "output_type": "execute_result"
    },
    {
     "data": {
      "image/png": "[encoded data removed]",
      "text/plain": [
       "<Figure size 432x288 with 1 Axes>"
      ]
     },
     "metadata": {
      "needs_background": "light"
     },
     "output_type": "display_data"
    }
   ],
   "source": [
    "fits_img = fits.open('/Users/astro/Downloads/1_27_2.846234_SCI_356.fits')\n",
    "orig_img = fits_img[0].data\n",
    "\n",
    "\n",
    "\n",
    "plt.imshow(orig_img)\n",
    "\n"
   ]
  },
  {
   "cell_type": "code",
   "execution_count": 58,
   "id": "916da16b",
   "metadata": {},
   "outputs": [
    {
     "data": {
      "text/plain": [
       "<matplotlib.image.AxesImage at 0x124feaa70>"
      ]
     },
     "execution_count": 58,
     "metadata": {},
     "output_type": "execute_result"
    },
    {
     "data": {
      "image/png": "[encoded data removed]",
      "text/plain": [
       "<Figure size 432x288 with 1 Axes>"
      ]
     },
     "metadata": {
      "needs_background": "light"
     },
     "output_type": "display_data"
    }
   ],
   "source": [
    "copy_img = orig_img.copy()\n",
    "\n",
    "resized_img = np.resize(copy_img, (10, 10))\n",
    "\n",
    "plt.imshow(copy_img)"
   ]
  },
  {
   "cell_type": "code",
   "execution_count": 59,
   "id": "b710842a",
   "metadata": {},
   "outputs": [
    {
     "data": {
      "text/plain": [
       "<matplotlib.image.AxesImage at 0x125017550>"
      ]
     },
     "execution_count": 59,
     "metadata": {},
     "output_type": "execute_result"
    },
    {
     "data": {
      "image/png": "[encoded data removed]",
      "text/plain": [
       "<Figure size 432x288 with 1 Axes>"
      ]
     },
     "metadata": {
      "needs_background": "light"
     },
     "output_type": "display_data"
    }
   ],
   "source": [
    "res = cv2.resize(copy_img, dsize=(50, 50), interpolation = cv2.INTER_AREA)\n",
    "plt.imshow(res)\n"
   ]
  },
  {
   "cell_type": "code",
   "execution_count": 62,
   "id": "a900bfd0",
   "metadata": {},
   "outputs": [
    {
     "data": {
      "text/plain": [
       "<matplotlib.image.AxesImage at 0x125133fd0>"
      ]
     },
     "execution_count": 62,
     "metadata": {},
     "output_type": "execute_result"
    },
    {
     "name": "stderr",
     "output_type": "stream",
     "text": [
      "/Users/astro/anaconda3/envs/codeastro/lib/python3.10/site-packages/matplotlib/image.py:479: RuntimeWarning: invalid value encountered in subtract\n",
      "  A_scaled -= a_min\n"
     ]
    },
    {
     "data": {
      "image/png": "[encoded data removed]",
      "text/plain": [
       "<Figure size 432x288 with 1 Axes>"
      ]
     },
     "metadata": {
      "needs_background": "light"
     },
     "output_type": "display_data"
    }
   ],
   "source": [
    "img = imutils.resize(copy_img, width=100)\n",
    "plt.imshow(img)"
   ]
  },
  {
   "cell_type": "code",
   "execution_count": null,
   "id": "834be3df",
   "metadata": {},
   "outputs": [],
   "source": []
  },
  {
   "cell_type": "code",
   "execution_count": null,
   "id": "8803fb7c",
   "metadata": {},
   "outputs": [],
   "source": []
  }
 ],
 "metadata": {
  "kernelspec": {
   "display_name": "Python 3 (ipykernel)",
   "language": "python",
   "name": "python3"
  },
  "language_info": {
   "codemirror_mode": {
    "name": "ipython",
    "version": 3
   },
   "file_extension": ".py",
   "mimetype": "text/x-python",
   "name": "python",
   "nbconvert_exporter": "python",
   "pygments_lexer": "ipython3",
   "version": "3.10.4"
  }
 },
 "nbformat": 4,
 "nbformat_minor": 5
}
